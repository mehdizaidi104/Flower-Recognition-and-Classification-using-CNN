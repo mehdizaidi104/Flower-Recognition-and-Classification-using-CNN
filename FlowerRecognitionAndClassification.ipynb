{
  "cells": [
    {
      "cell_type": "code",
      "execution_count": 39,
      "metadata": {
        "colab": {
          "base_uri": "https://localhost:8080/"
        },
        "id": "vI5oAUz4IgKm",
        "outputId": "97c6e41c-1951-4778-c3f2-1476c873bf1f"
      },
      "outputs": [
        {
          "output_type": "stream",
          "name": "stdout",
          "text": [
            "Drive already mounted at /content/drive; to attempt to forcibly remount, call drive.mount(\"/content/drive\", force_remount=True).\n"
          ]
        }
      ],
      "source": [
        "from google.colab import drive\n",
        "drive.mount('/content/drive')"
      ]
    },
    {
      "cell_type": "code",
      "execution_count": 40,
      "metadata": {
        "colab": {
          "base_uri": "https://localhost:8080/"
        },
        "id": "XhgtxVqzImih",
        "outputId": "1c665383-89a3-486c-e6c1-bf5368efbfe9"
      },
      "outputs": [
        {
          "output_type": "stream",
          "name": "stdout",
          "text": [
            "/content/drive/MyDrive/MyFlowerDataset\n"
          ]
        }
      ],
      "source": [
        "%cd /content/drive/MyDrive/MyFlowerDataset"
      ]
    },
    {
      "cell_type": "code",
      "execution_count": 41,
      "metadata": {
        "colab": {
          "base_uri": "https://localhost:8080/",
          "height": 35
        },
        "id": "_JbuVscyKrJn",
        "outputId": "30048168-431c-4c88-b5af-7747580e3bd6"
      },
      "outputs": [
        {
          "output_type": "execute_result",
          "data": {
            "text/plain": [
              "'/content/MyFlowerDataset'"
            ],
            "application/vnd.google.colaboratory.intrinsic+json": {
              "type": "string"
            }
          },
          "metadata": {},
          "execution_count": 41
        }
      ],
      "source": [
        "import shutil\n",
        "import os\n",
        "\n",
        "# Define the path to the folder in Google Drive\n",
        "folder_path = '/content/drive/MyDrive/MyFlowerDataset'\n",
        "target_path = '/content/MyFlowerDataset'\n",
        "\n",
        "# Check if the target directory exists and remove it if it does\n",
        "if os.path.exists(target_path):\n",
        "    shutil.rmtree(target_path)\n",
        "\n",
        "# Copy the folder to Google Colab\n",
        "shutil.copytree(folder_path, target_path)"
      ]
    },
    {
      "cell_type": "code",
      "execution_count": 42,
      "metadata": {
        "colab": {
          "base_uri": "https://localhost:8080/"
        },
        "id": "15Nfno0PKt-z",
        "outputId": "9367eb47-f622-4e48-9e5c-e9ac2f03a75c"
      },
      "outputs": [
        {
          "output_type": "stream",
          "name": "stdout",
          "text": [
            "Total files: 5\n"
          ]
        }
      ],
      "source": [
        "import random\n",
        "\n",
        "data_folder = '/content/MyFlowerDataset'\n",
        "\n",
        "files = os.listdir(data_folder)\n",
        "\n",
        "for file_name in files:\n",
        "\n",
        "    os.makedirs(f'/content/train/{file_name}', exist_ok=True)\n",
        "    os.makedirs(f'/content/test/{file_name}', exist_ok=True)\n",
        "\n",
        "    images = os.listdir(os.path.join(data_folder, file_name))\n",
        "\n",
        "    num_train_images = int(0.8 * len(images))\n",
        "\n",
        "    random.shuffle(images)\n",
        "\n",
        "    train_images = images[:num_train_images]\n",
        "    test_images = images[num_train_images:]\n",
        "\n",
        "    for img in train_images:\n",
        "        shutil.move(os.path.join(data_folder, file_name, img), f'/content/train/{file_name}/{img}')\n",
        "\n",
        "    for img in test_images:\n",
        "        shutil.move(os.path.join(data_folder, file_name, img), f'/content/test/{file_name}/{img}')\n",
        "\n",
        "print(f\"Total files: {len(files)}\")"
      ]
    },
    {
      "cell_type": "code",
      "execution_count": 43,
      "metadata": {
        "id": "XEAih4hiLSWo"
      },
      "outputs": [],
      "source": [
        "import tensorflow as tf\n",
        "from tensorflow import keras\n",
        "from keras import Sequential\n",
        "from keras.layers import Dense, Conv2D, MaxPooling2D, Flatten"
      ]
    },
    {
      "cell_type": "code",
      "execution_count": 44,
      "metadata": {
        "colab": {
          "base_uri": "https://localhost:8080/"
        },
        "id": "ISS8WnE_LVI6",
        "outputId": "34d34e75-5714-40a0-f61e-cd8ca05f9db1"
      },
      "outputs": [
        {
          "output_type": "stream",
          "name": "stdout",
          "text": [
            "Found 396 files belonging to 5 classes.\n",
            "Found 150 files belonging to 5 classes.\n"
          ]
        }
      ],
      "source": [
        "#generate\n",
        "train_ds=keras.utils.image_dataset_from_directory(\n",
        "    directory='/content/train',\n",
        "    labels='inferred',\n",
        "    label_mode='int',\n",
        "    batch_size=8,\n",
        "    image_size=(256,256)\n",
        ")\n",
        "\n",
        "validation_ds=keras.utils.image_dataset_from_directory(\n",
        "    directory='/content/test',\n",
        "    labels='inferred',\n",
        "    label_mode='int',\n",
        "    batch_size=8,\n",
        "    image_size=(256,256)\n",
        ")"
      ]
    },
    {
      "cell_type": "code",
      "execution_count": 45,
      "metadata": {
        "colab": {
          "base_uri": "https://localhost:8080/"
        },
        "id": "d4QegJOfLYlX",
        "outputId": "d414f003-e23a-4d5f-be7b-54b34a910a71"
      },
      "outputs": [
        {
          "output_type": "stream",
          "name": "stdout",
          "text": [
            "Model: \"sequential_6\"\n",
            "_________________________________________________________________\n",
            " Layer (type)                Output Shape              Param #   \n",
            "=================================================================\n",
            " conv2d_18 (Conv2D)          (None, 254, 254, 32)      896       \n",
            "                                                                 \n",
            " max_pooling2d_18 (MaxPooli  (None, 127, 127, 32)      0         \n",
            " ng2D)                                                           \n",
            "                                                                 \n",
            " conv2d_19 (Conv2D)          (None, 125, 125, 64)      18496     \n",
            "                                                                 \n",
            " max_pooling2d_19 (MaxPooli  (None, 62, 62, 64)        0         \n",
            " ng2D)                                                           \n",
            "                                                                 \n",
            " conv2d_20 (Conv2D)          (None, 60, 60, 128)       73856     \n",
            "                                                                 \n",
            " max_pooling2d_20 (MaxPooli  (None, 30, 30, 128)       0         \n",
            " ng2D)                                                           \n",
            "                                                                 \n",
            " flatten_6 (Flatten)         (None, 115200)            0         \n",
            "                                                                 \n",
            " dense_18 (Dense)            (None, 256)               29491456  \n",
            "                                                                 \n",
            " dense_19 (Dense)            (None, 128)               32896     \n",
            "                                                                 \n",
            " dense_20 (Dense)            (None, 5)                 645       \n",
            "                                                                 \n",
            "=================================================================\n",
            "Total params: 29618245 (112.98 MB)\n",
            "Trainable params: 29618245 (112.98 MB)\n",
            "Non-trainable params: 0 (0.00 Byte)\n",
            "_________________________________________________________________\n"
          ]
        }
      ],
      "source": [
        "#create CNN model\n",
        "model = Sequential()\n",
        "\n",
        "model.add(Conv2D(32,kernel_size=(3,3),padding='valid',activation='relu',input_shape=(256,256,3)))\n",
        "model.add(MaxPooling2D(pool_size=(2,2),strides=2,padding='valid'))\n",
        "\n",
        "model.add(Conv2D(64,kernel_size=(3,3),padding='valid',activation='relu'))\n",
        "model.add(MaxPooling2D(pool_size=(2,2),strides=2,padding='valid'))\n",
        "\n",
        "model.add(Conv2D(128,kernel_size=(3,3),padding='valid',activation='relu'))\n",
        "model.add(MaxPooling2D(pool_size=(2,2),strides=2,padding='valid'))\n",
        "\n",
        "model.add(Flatten())\n",
        "\n",
        "model.add(Dense(256,activation='relu'))\n",
        "model.add(Dense(128,activation='relu'))\n",
        "\n",
        "model.add(Dense(5,activation='softmax'))#5 flowers\n",
        "\n",
        "model.summary()"
      ]
    },
    {
      "cell_type": "code",
      "execution_count": 46,
      "metadata": {
        "id": "zW4CKI4yLoxx"
      },
      "outputs": [],
      "source": [
        "#Normalize\n",
        "def process(image,label):\n",
        "  image=tf.cast(image/255. ,tf.float32)\n",
        "  return image, label\n",
        "\n",
        "train_ds = train_ds.map(process)\n",
        "validation_ds= validation_ds.map(process)"
      ]
    },
    {
      "cell_type": "code",
      "execution_count": 47,
      "metadata": {
        "id": "WezE_C7NLrRg"
      },
      "outputs": [],
      "source": [
        "learning_rate = .00001\n",
        "model.compile(optimizer=tf.keras.optimizers.legacy.Adam(learning_rate=learning_rate),loss=tf.keras.losses.SparseCategoricalCrossentropy(from_logits=False),metrics=['accuracy'])"
      ]
    },
    {
      "cell_type": "code",
      "execution_count": 48,
      "metadata": {
        "id": "3tzbC2NIMJc-",
        "colab": {
          "base_uri": "https://localhost:8080/"
        },
        "outputId": "632f0583-9fdc-4fbf-9a00-5d04ea022221"
      },
      "outputs": [
        {
          "output_type": "stream",
          "name": "stdout",
          "text": [
            "Epoch 1/20\n",
            "50/50 [==============================] - 4s 68ms/step - loss: 1.4775 - accuracy: 0.4949 - val_loss: 1.2654 - val_accuracy: 0.7067\n",
            "Epoch 2/20\n",
            "50/50 [==============================] - 2s 33ms/step - loss: 1.1289 - accuracy: 0.7045 - val_loss: 0.9236 - val_accuracy: 0.8000\n",
            "Epoch 3/20\n",
            "50/50 [==============================] - 2s 33ms/step - loss: 0.8492 - accuracy: 0.7904 - val_loss: 0.6858 - val_accuracy: 0.8867\n",
            "Epoch 4/20\n",
            "50/50 [==============================] - 2s 33ms/step - loss: 0.6521 - accuracy: 0.8308 - val_loss: 0.5443 - val_accuracy: 0.8733\n",
            "Epoch 5/20\n",
            "50/50 [==============================] - 2s 33ms/step - loss: 0.5296 - accuracy: 0.8586 - val_loss: 0.4513 - val_accuracy: 0.8800\n",
            "Epoch 6/20\n",
            "50/50 [==============================] - 3s 48ms/step - loss: 0.4389 - accuracy: 0.8939 - val_loss: 0.3662 - val_accuracy: 0.9200\n",
            "Epoch 7/20\n",
            "50/50 [==============================] - 2s 34ms/step - loss: 0.3589 - accuracy: 0.9192 - val_loss: 0.3237 - val_accuracy: 0.9267\n",
            "Epoch 8/20\n",
            "50/50 [==============================] - 2s 33ms/step - loss: 0.3064 - accuracy: 0.9217 - val_loss: 0.2631 - val_accuracy: 0.9467\n",
            "Epoch 9/20\n",
            "50/50 [==============================] - 2s 33ms/step - loss: 0.2709 - accuracy: 0.9419 - val_loss: 0.2559 - val_accuracy: 0.9467\n",
            "Epoch 10/20\n",
            "50/50 [==============================] - 3s 50ms/step - loss: 0.2404 - accuracy: 0.9470 - val_loss: 0.2080 - val_accuracy: 0.9600\n",
            "Epoch 11/20\n",
            "50/50 [==============================] - 2s 42ms/step - loss: 0.2104 - accuracy: 0.9571 - val_loss: 0.1862 - val_accuracy: 0.9600\n",
            "Epoch 12/20\n",
            "50/50 [==============================] - 2s 32ms/step - loss: 0.1801 - accuracy: 0.9747 - val_loss: 0.1680 - val_accuracy: 0.9600\n",
            "Epoch 13/20\n",
            "50/50 [==============================] - 2s 33ms/step - loss: 0.1813 - accuracy: 0.9596 - val_loss: 0.1581 - val_accuracy: 0.9533\n",
            "Epoch 14/20\n",
            "50/50 [==============================] - 2s 30ms/step - loss: 0.1418 - accuracy: 0.9798 - val_loss: 0.1673 - val_accuracy: 0.9600\n",
            "Epoch 15/20\n",
            "50/50 [==============================] - 2s 34ms/step - loss: 0.1347 - accuracy: 0.9747 - val_loss: 0.1280 - val_accuracy: 0.9800\n",
            "Epoch 16/20\n",
            "50/50 [==============================] - 2s 40ms/step - loss: 0.1112 - accuracy: 0.9823 - val_loss: 0.1225 - val_accuracy: 0.9733\n",
            "Epoch 17/20\n",
            "50/50 [==============================] - 3s 49ms/step - loss: 0.1018 - accuracy: 0.9874 - val_loss: 0.1131 - val_accuracy: 0.9733\n",
            "Epoch 18/20\n",
            "50/50 [==============================] - 2s 32ms/step - loss: 0.0921 - accuracy: 0.9899 - val_loss: 0.1357 - val_accuracy: 0.9533\n",
            "Epoch 19/20\n",
            "50/50 [==============================] - 2s 34ms/step - loss: 0.0823 - accuracy: 0.9848 - val_loss: 0.1121 - val_accuracy: 0.9667\n",
            "Epoch 20/20\n",
            "50/50 [==============================] - 2s 33ms/step - loss: 0.0734 - accuracy: 0.9899 - val_loss: 0.0916 - val_accuracy: 0.9733\n"
          ]
        }
      ],
      "source": [
        "from tensorflow.keras.callbacks import EarlyStopping\n",
        "\n",
        "early_stopping = EarlyStopping(monitor='val_loss', patience=3, restore_best_weights=True)\n",
        "\n",
        "history = model.fit(\n",
        "    train_ds,\n",
        "    epochs=20,\n",
        "    validation_data=validation_ds,\n",
        "    callbacks=[early_stopping]\n",
        ")"
      ]
    },
    {
      "cell_type": "code",
      "execution_count": 49,
      "metadata": {
        "id": "b5oiaEQnMYBr",
        "colab": {
          "base_uri": "https://localhost:8080/",
          "height": 481
        },
        "outputId": "231f23e0-684d-4f34-c18c-68e18b599518"
      },
      "outputs": [
        {
          "output_type": "display_data",
          "data": {
            "text/plain": [
              "<Figure size 1200x600 with 2 Axes>"
            ],
            "image/png": "[encoded data removed]"
          },
          "metadata": {}
        }
      ],
      "source": [
        "import matplotlib.pyplot as plt\n",
        "\n",
        "# Retrieve history data\n",
        "history_dict = history.history\n",
        "\n",
        "# Extract accuracy and loss values\n",
        "accuracy = history_dict['accuracy']\n",
        "val_accuracy = history_dict['val_accuracy']\n",
        "loss = history_dict['loss']\n",
        "val_loss = history_dict['val_loss']\n",
        "\n",
        "# Get the number of epochs\n",
        "epochs = range(1, len(accuracy) + 1)\n",
        "\n",
        "# Plot training and validation accuracy\n",
        "plt.figure(figsize=(12, 6))\n",
        "\n",
        "plt.subplot(1, 2, 1)\n",
        "plt.plot(epochs, accuracy, 'bo', label='Training accuracy')\n",
        "plt.plot(epochs, val_accuracy, 'b', label='Validation accuracy')\n",
        "plt.title('Training and Validation Accuracy')\n",
        "plt.xlabel('Epochs')\n",
        "plt.ylabel('Accuracy')\n",
        "plt.legend()\n",
        "\n",
        "# Plot training and validation loss\n",
        "plt.subplot(1, 2, 2)\n",
        "plt.plot(epochs, loss, 'ro', label='Training loss')\n",
        "plt.plot(epochs, val_loss, 'r', label='Validation loss')\n",
        "plt.title('Training and Validation Loss')\n",
        "plt.xlabel('Epochs')\n",
        "plt.ylabel('Loss')\n",
        "plt.legend()\n",
        "\n",
        "# Display the plots\n",
        "plt.tight_layout()\n",
        "plt.show()"
      ]
    },
    {
      "cell_type": "code",
      "source": [
        "# Save the model in Keras format to Google Drive\n",
        "model.save('/content/drive/My Drive/FlowerRecognitionAndClassificationModel/MyFlowerRecognitionModelKerasFormat.keras')\n",
        "\n",
        "# Save the model in HDF5 format\n",
        "model.save('/content/drive/My Drive/FlowerRecognitionAndClassificationModel/MyFlowerRecognitionModelh5Format.h5')"
      ],
      "metadata": {
        "id": "Nt4Pqn-ozZ1v"
      },
      "execution_count": 51,
      "outputs": []
    },
    {
      "cell_type": "code",
      "source": [],
      "metadata": {
        "id": "YD3RMutszxq9"
      },
      "execution_count": null,
      "outputs": []
    }
  ],
  "metadata": {
    "accelerator": "GPU",
    "colab": {
      "gpuType": "T4",
      "provenance": []
    },
    "kernelspec": {
      "display_name": "Python 3",
      "name": "python3"
    },
    "language_info": {
      "name": "python"
    }
  },
  "nbformat": 4,
  "nbformat_minor": 0
}